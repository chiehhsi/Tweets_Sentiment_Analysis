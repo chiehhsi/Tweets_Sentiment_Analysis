{
 "cells": [
  {
   "cell_type": "markdown",
   "metadata": {
    "collapsed": true,
    "pycharm": {
     "name": "#%% md\n"
    }
   },
   "source": [
    "### word2vec-Edin Logistic Regression"
   ]
  },
  {
   "cell_type": "code",
   "source": [
    "# pre-Trained model link:https://affectivetweets.cms.waikato.ac.nz/\n",
    "# reference github repo:https://github.com/frosinastojanovska/TwitterEmotionDetection\n",
    "# To download the pre-trained model and load it, please run the transform_csv_w2v.py"
   ],
   "metadata": {
    "collapsed": false,
    "pycharm": {
     "name": "#%%\n"
    }
   },
   "execution_count": null,
   "outputs": []
  },
  {
   "cell_type": "code",
   "execution_count": 64,
   "outputs": [
    {
     "ename": "KeyboardInterrupt",
     "evalue": "",
     "output_type": "error",
     "traceback": [
      "\u001B[0;31m---------------------------------------------------------------------------\u001B[0m",
      "\u001B[0;31mKeyboardInterrupt\u001B[0m                         Traceback (most recent call last)",
      "\u001B[0;32m<ipython-input-64-73f512203628>\u001B[0m in \u001B[0;36m<module>\u001B[0;34m\u001B[0m\n\u001B[1;32m      1\u001B[0m \u001B[0;32mimport\u001B[0m \u001B[0mgensim\u001B[0m\u001B[0;34m\u001B[0m\u001B[0;34m\u001B[0m\u001B[0m\n\u001B[0;32m----> 2\u001B[0;31m \u001B[0mmodel\u001B[0m \u001B[0;34m=\u001B[0m \u001B[0mgensim\u001B[0m\u001B[0;34m.\u001B[0m\u001B[0mmodels\u001B[0m\u001B[0;34m.\u001B[0m\u001B[0mKeyedVectors\u001B[0m\u001B[0;34m.\u001B[0m\u001B[0mload_word2vec_format\u001B[0m\u001B[0;34m(\u001B[0m\u001B[0;34m'w2v.twitter.edinburgh10M.400d.txt.word2vec'\u001B[0m\u001B[0;34m)\u001B[0m\u001B[0;34m\u001B[0m\u001B[0;34m\u001B[0m\u001B[0m\n\u001B[0m\u001B[1;32m      3\u001B[0m \u001B[0;34m\u001B[0m\u001B[0m\n",
      "\u001B[0;32m/Library/Frameworks/Python.framework/Versions/3.8/lib/python3.8/site-packages/gensim/models/keyedvectors.py\u001B[0m in \u001B[0;36mload_word2vec_format\u001B[0;34m(cls, fname, fvocab, binary, encoding, unicode_errors, limit, datatype)\u001B[0m\n\u001B[1;32m   1545\u001B[0m         \"\"\"\n\u001B[1;32m   1546\u001B[0m         \u001B[0;31m# from gensim.models.word2vec import load_word2vec_format\u001B[0m\u001B[0;34m\u001B[0m\u001B[0;34m\u001B[0m\u001B[0;34m\u001B[0m\u001B[0m\n\u001B[0;32m-> 1547\u001B[0;31m         return _load_word2vec_format(\n\u001B[0m\u001B[1;32m   1548\u001B[0m             \u001B[0mcls\u001B[0m\u001B[0;34m,\u001B[0m \u001B[0mfname\u001B[0m\u001B[0;34m,\u001B[0m \u001B[0mfvocab\u001B[0m\u001B[0;34m=\u001B[0m\u001B[0mfvocab\u001B[0m\u001B[0;34m,\u001B[0m \u001B[0mbinary\u001B[0m\u001B[0;34m=\u001B[0m\u001B[0mbinary\u001B[0m\u001B[0;34m,\u001B[0m \u001B[0mencoding\u001B[0m\u001B[0;34m=\u001B[0m\u001B[0mencoding\u001B[0m\u001B[0;34m,\u001B[0m \u001B[0municode_errors\u001B[0m\u001B[0;34m=\u001B[0m\u001B[0municode_errors\u001B[0m\u001B[0;34m,\u001B[0m\u001B[0;34m\u001B[0m\u001B[0;34m\u001B[0m\u001B[0m\n\u001B[1;32m   1549\u001B[0m             limit=limit, datatype=datatype)\n",
      "\u001B[0;32m/Library/Frameworks/Python.framework/Versions/3.8/lib/python3.8/site-packages/gensim/models/utils_any2vec.py\u001B[0m in \u001B[0;36m_load_word2vec_format\u001B[0;34m(cls, fname, fvocab, binary, encoding, unicode_errors, limit, datatype, binary_chunk_size)\u001B[0m\n\u001B[1;32m    286\u001B[0m                 vocab_size, vector_size, datatype, unicode_errors, binary_chunk_size)\n\u001B[1;32m    287\u001B[0m         \u001B[0;32melse\u001B[0m\u001B[0;34m:\u001B[0m\u001B[0;34m\u001B[0m\u001B[0;34m\u001B[0m\u001B[0m\n\u001B[0;32m--> 288\u001B[0;31m             \u001B[0m_word2vec_read_text\u001B[0m\u001B[0;34m(\u001B[0m\u001B[0mfin\u001B[0m\u001B[0;34m,\u001B[0m \u001B[0mresult\u001B[0m\u001B[0;34m,\u001B[0m \u001B[0mcounts\u001B[0m\u001B[0;34m,\u001B[0m \u001B[0mvocab_size\u001B[0m\u001B[0;34m,\u001B[0m \u001B[0mvector_size\u001B[0m\u001B[0;34m,\u001B[0m \u001B[0mdatatype\u001B[0m\u001B[0;34m,\u001B[0m \u001B[0municode_errors\u001B[0m\u001B[0;34m,\u001B[0m \u001B[0mencoding\u001B[0m\u001B[0;34m)\u001B[0m\u001B[0;34m\u001B[0m\u001B[0;34m\u001B[0m\u001B[0m\n\u001B[0m\u001B[1;32m    289\u001B[0m     \u001B[0;32mif\u001B[0m \u001B[0mresult\u001B[0m\u001B[0;34m.\u001B[0m\u001B[0mvectors\u001B[0m\u001B[0;34m.\u001B[0m\u001B[0mshape\u001B[0m\u001B[0;34m[\u001B[0m\u001B[0;36m0\u001B[0m\u001B[0;34m]\u001B[0m \u001B[0;34m!=\u001B[0m \u001B[0mlen\u001B[0m\u001B[0;34m(\u001B[0m\u001B[0mresult\u001B[0m\u001B[0;34m.\u001B[0m\u001B[0mvocab\u001B[0m\u001B[0;34m)\u001B[0m\u001B[0;34m:\u001B[0m\u001B[0;34m\u001B[0m\u001B[0;34m\u001B[0m\u001B[0m\n\u001B[1;32m    290\u001B[0m         logger.info(\n",
      "\u001B[0;32m/Library/Frameworks/Python.framework/Versions/3.8/lib/python3.8/site-packages/gensim/models/utils_any2vec.py\u001B[0m in \u001B[0;36m_word2vec_read_text\u001B[0;34m(fin, result, counts, vocab_size, vector_size, datatype, unicode_errors, encoding)\u001B[0m\n\u001B[1;32m    220\u001B[0m             \u001B[0;32mraise\u001B[0m \u001B[0mValueError\u001B[0m\u001B[0;34m(\u001B[0m\u001B[0;34m\"invalid vector on line %s (is this really the text format?)\"\u001B[0m \u001B[0;34m%\u001B[0m \u001B[0mline_no\u001B[0m\u001B[0;34m)\u001B[0m\u001B[0;34m\u001B[0m\u001B[0;34m\u001B[0m\u001B[0m\n\u001B[1;32m    221\u001B[0m         \u001B[0mword\u001B[0m\u001B[0;34m,\u001B[0m \u001B[0mweights\u001B[0m \u001B[0;34m=\u001B[0m \u001B[0mparts\u001B[0m\u001B[0;34m[\u001B[0m\u001B[0;36m0\u001B[0m\u001B[0;34m]\u001B[0m\u001B[0;34m,\u001B[0m \u001B[0;34m[\u001B[0m\u001B[0mdatatype\u001B[0m\u001B[0;34m(\u001B[0m\u001B[0mx\u001B[0m\u001B[0;34m)\u001B[0m \u001B[0;32mfor\u001B[0m \u001B[0mx\u001B[0m \u001B[0;32min\u001B[0m \u001B[0mparts\u001B[0m\u001B[0;34m[\u001B[0m\u001B[0;36m1\u001B[0m\u001B[0;34m:\u001B[0m\u001B[0;34m]\u001B[0m\u001B[0;34m]\u001B[0m\u001B[0;34m\u001B[0m\u001B[0;34m\u001B[0m\u001B[0m\n\u001B[0;32m--> 222\u001B[0;31m         \u001B[0m_add_word_to_result\u001B[0m\u001B[0;34m(\u001B[0m\u001B[0mresult\u001B[0m\u001B[0;34m,\u001B[0m \u001B[0mcounts\u001B[0m\u001B[0;34m,\u001B[0m \u001B[0mword\u001B[0m\u001B[0;34m,\u001B[0m \u001B[0mweights\u001B[0m\u001B[0;34m,\u001B[0m \u001B[0mvocab_size\u001B[0m\u001B[0;34m)\u001B[0m\u001B[0;34m\u001B[0m\u001B[0;34m\u001B[0m\u001B[0m\n\u001B[0m\u001B[1;32m    223\u001B[0m \u001B[0;34m\u001B[0m\u001B[0m\n\u001B[1;32m    224\u001B[0m \u001B[0;34m\u001B[0m\u001B[0m\n",
      "\u001B[0;32m/Library/Frameworks/Python.framework/Versions/3.8/lib/python3.8/site-packages/gensim/models/utils_any2vec.py\u001B[0m in \u001B[0;36m_add_word_to_result\u001B[0;34m(result, counts, word, weights, vocab_size)\u001B[0m\n\u001B[1;32m    168\u001B[0m \u001B[0;34m\u001B[0m\u001B[0m\n\u001B[1;32m    169\u001B[0m     \u001B[0mresult\u001B[0m\u001B[0;34m.\u001B[0m\u001B[0mvocab\u001B[0m\u001B[0;34m[\u001B[0m\u001B[0mword\u001B[0m\u001B[0;34m]\u001B[0m \u001B[0;34m=\u001B[0m \u001B[0mgensim\u001B[0m\u001B[0;34m.\u001B[0m\u001B[0mmodels\u001B[0m\u001B[0;34m.\u001B[0m\u001B[0mkeyedvectors\u001B[0m\u001B[0;34m.\u001B[0m\u001B[0mVocab\u001B[0m\u001B[0;34m(\u001B[0m\u001B[0mindex\u001B[0m\u001B[0;34m=\u001B[0m\u001B[0mword_id\u001B[0m\u001B[0;34m,\u001B[0m \u001B[0mcount\u001B[0m\u001B[0;34m=\u001B[0m\u001B[0mword_count\u001B[0m\u001B[0;34m)\u001B[0m\u001B[0;34m\u001B[0m\u001B[0;34m\u001B[0m\u001B[0m\n\u001B[0;32m--> 170\u001B[0;31m     \u001B[0mresult\u001B[0m\u001B[0;34m.\u001B[0m\u001B[0mvectors\u001B[0m\u001B[0;34m[\u001B[0m\u001B[0mword_id\u001B[0m\u001B[0;34m]\u001B[0m \u001B[0;34m=\u001B[0m \u001B[0mweights\u001B[0m\u001B[0;34m\u001B[0m\u001B[0;34m\u001B[0m\u001B[0m\n\u001B[0m\u001B[1;32m    171\u001B[0m     \u001B[0mresult\u001B[0m\u001B[0;34m.\u001B[0m\u001B[0mindex2word\u001B[0m\u001B[0;34m.\u001B[0m\u001B[0mappend\u001B[0m\u001B[0;34m(\u001B[0m\u001B[0mword\u001B[0m\u001B[0;34m)\u001B[0m\u001B[0;34m\u001B[0m\u001B[0;34m\u001B[0m\u001B[0m\n\u001B[1;32m    172\u001B[0m \u001B[0;34m\u001B[0m\u001B[0m\n",
      "\u001B[0;31mKeyboardInterrupt\u001B[0m: "
     ]
    }
   ],
   "source": [
    "# It takes several minutes to load the model\n",
    "# only run it once\n",
    "import gensim\n",
    "model = gensim.models.KeyedVectors.load_word2vec_format('w2v.twitter.edinburgh10M.400d.txt.word2vec')"
   ],
   "metadata": {
    "collapsed": false,
    "pycharm": {
     "name": "#%%\n"
    }
   }
  },
  {
   "cell_type": "code",
   "execution_count": 67,
   "outputs": [
    {
     "name": "stdout",
     "output_type": "stream",
     "text": [
      "[('obamas', 0.7016106843948364), ('bho', 0.6924901008605957), ('#obama', 0.677671492099762), ('obamaâ\\x80\\x99s', 0.672095775604248), ('potus', 0.6554491519927979), ('karzai', 0.6271429657936096), ('zardari', 0.5904218554496765), ('medvedev', 0.5850324034690857), ('palin', 0.5791465044021606), ('netanyahu', 0.5740561485290527)]\n",
      "400\n"
     ]
    }
   ],
   "source": [
    "# test\n",
    "print(model.most_similar(positive=\"obama\"))\n",
    "print(len(model['obama']))"
   ],
   "metadata": {
    "collapsed": false,
    "pycharm": {
     "name": "#%%\n"
    }
   }
  },
  {
   "cell_type": "code",
   "execution_count": 96,
   "outputs": [],
   "source": [
    "import pandas as pd\n",
    "import numpy as np\n",
    "import matplotlib.pyplot as plt\n",
    "import seaborn as sns\n",
    "from sklearn.model_selection import train_test_split\n",
    "from sklearn.linear_model import LogisticRegressionCV\n",
    "from sklearn.metrics import confusion_matrix, classification_report,accuracy_score, f1_score"
   ],
   "metadata": {
    "collapsed": false,
    "pycharm": {
     "name": "#%%\n"
    }
   }
  },
  {
   "cell_type": "markdown",
   "source": [
    "#### Read Cleaned Data"
   ],
   "metadata": {
    "collapsed": false
   }
  },
  {
   "cell_type": "code",
   "execution_count": 69,
   "outputs": [],
   "source": [
    "# load the dataset\n",
    "oba_cleanall = np.load('./TrainData/tweets_oba.npy', allow_pickle=True)\n",
    "targets_oba = np.load('./TrainData/targets_oba.npy', allow_pickle=True)\n",
    "rom_cleanall = np.load('./TrainData/tweets_rom.npy', allow_pickle=True)\n",
    "targets_rom = np.load('./TrainData/targets_rom.npy', allow_pickle=True)\n",
    "df_oba = pd.DataFrame({'tweet':oba_cleanall, 'label': targets_oba })\n",
    "df_rom = pd.DataFrame({'tweet':rom_cleanall, 'label': targets_rom })"
   ],
   "metadata": {
    "collapsed": false,
    "pycharm": {
     "name": "#%%\n"
    }
   }
  },
  {
   "cell_type": "code",
   "execution_count": 70,
   "outputs": [
    {
     "data": {
      "text/plain": "<matplotlib.axes._subplots.AxesSubplot at 0x7fd3d528fcd0>"
     },
     "execution_count": 70,
     "metadata": {},
     "output_type": "execute_result"
    },
    {
     "data": {
      "text/plain": "<Figure size 432x288 with 1 Axes>",
      "image/png": "[encoded data removed]"
     },
     "metadata": {
      "needs_background": "light"
     },
     "output_type": "display_data"
    }
   ],
   "source": [
    "sns.countplot(df_oba['label'])"
   ],
   "metadata": {
    "collapsed": false,
    "pycharm": {
     "name": "#%%\n"
    }
   }
  },
  {
   "cell_type": "code",
   "execution_count": 71,
   "outputs": [
    {
     "data": {
      "text/plain": "<matplotlib.axes._subplots.AxesSubplot at 0x7fd3d5457250>"
     },
     "execution_count": 71,
     "metadata": {},
     "output_type": "execute_result"
    },
    {
     "data": {
      "text/plain": "<Figure size 432x288 with 1 Axes>",
      "image/png": "[encoded data removed]"
     },
     "metadata": {
      "needs_background": "light"
     },
     "output_type": "display_data"
    },
    {
     "data": {
      "text/plain": "<Figure size 648x216 with 3 Axes>",
      "image/png": "[encoded data removed]"
     },
     "metadata": {
      "needs_background": "light"
     },
     "output_type": "display_data"
    }
   ],
   "source": [
    "df_oba['text_length'] = df_oba['tweet'].apply(len)\n",
    "df_oba[['label','text_length','tweet']].head()\n",
    "df_oba['text_length'].describe()\n",
    "df_oba['text_length'].hist(bins=50)\n",
    "g = sns.FacetGrid(df_oba,col='label')\n",
    "g.map(plt.hist,'text_length')\n",
    "\n",
    "df_rom['text_length'] = df_rom['tweet'].apply(len)\n",
    "df_rom[['label','text_length','tweet']].head()\n",
    "df_rom['text_length'].describe()\n",
    "df_rom['text_length'].hist(bins=50)\n",
    "# g = sns.FacetGrid(df_rom,col='label')\n",
    "# g.map(plt.hist,'text_length')"
   ],
   "metadata": {
    "collapsed": false,
    "pycharm": {
     "name": "#%%\n"
    }
   }
  },
  {
   "cell_type": "code",
   "execution_count": null,
   "outputs": [],
   "source": [
    "#Preparing Vectors for Tweets\n",
    "def word_vector(tokens, size):\n",
    "    vec = np.zeros(size).reshape((1, size))\n",
    "    count = 0\n",
    "    for word in tokens:\n",
    "        try:\n",
    "            vec += model[word].reshape((1, size))\n",
    "            count += 1.\n",
    "        except KeyError:  # handling the case where the token is not in vocabulary\n",
    "            continue\n",
    "    if count != 0:\n",
    "        vec /= count\n",
    "    return vec"
   ],
   "metadata": {
    "collapsed": false,
    "pycharm": {
     "name": "#%%\n"
    }
   }
  },
  {
   "cell_type": "code",
   "execution_count": 72,
   "outputs": [
    {
     "data": {
      "text/plain": "(5624, 400)"
     },
     "execution_count": 72,
     "metadata": {},
     "output_type": "execute_result"
    }
   ],
   "source": [
    "# Preparing word2vec feature set…\n",
    "tokenized_tweet = df_oba['tweet'].apply(lambda x: x.split())\n",
    "\n",
    "wordvec_arrays = np.zeros((len(tokenized_tweet), 400))\n",
    "for i in range(len(tokenized_tweet)):\n",
    "    wordvec_arrays[i,:] = word_vector(tokenized_tweet[i], 400)\n",
    "wordvec_df = pd.DataFrame(wordvec_arrays)\n",
    "wordvec_df.shape"
   ],
   "metadata": {
    "collapsed": false,
    "pycharm": {
     "name": "#%%\n"
    }
   }
  },
  {
   "cell_type": "code",
   "execution_count": 80,
   "outputs": [],
   "source": [
    "train_w2v, test_w2v, train_Y, test_Y = train_test_split(wordvec_df, df_oba['label'], test_size = 0.2, random_state = 42)"
   ],
   "metadata": {
    "collapsed": false,
    "pycharm": {
     "name": "#%%\n"
    }
   }
  },
  {
   "cell_type": "code",
   "execution_count": 98,
   "outputs": [
    {
     "name": "stderr",
     "output_type": "stream",
     "text": [
      "/Library/Frameworks/Python.framework/Versions/3.8/lib/python3.8/site-packages/sklearn/linear_model/_logistic.py:762: ConvergenceWarning: lbfgs failed to converge (status=1):\n",
      "STOP: TOTAL NO. of ITERATIONS REACHED LIMIT.\n",
      "\n",
      "Increase the number of iterations (max_iter) or scale the data as shown in:\n",
      "    https://scikit-learn.org/stable/modules/preprocessing.html\n",
      "Please also refer to the documentation for alternative solver options:\n",
      "    https://scikit-learn.org/stable/modules/linear_model.html#logistic-regression\n",
      "  n_iter_i = _check_optimize_result(\n",
      "/Library/Frameworks/Python.framework/Versions/3.8/lib/python3.8/site-packages/sklearn/linear_model/_logistic.py:762: ConvergenceWarning: lbfgs failed to converge (status=1):\n",
      "STOP: TOTAL NO. of ITERATIONS REACHED LIMIT.\n",
      "\n",
      "Increase the number of iterations (max_iter) or scale the data as shown in:\n",
      "    https://scikit-learn.org/stable/modules/preprocessing.html\n",
      "Please also refer to the documentation for alternative solver options:\n",
      "    https://scikit-learn.org/stable/modules/linear_model.html#logistic-regression\n",
      "  n_iter_i = _check_optimize_result(\n",
      "/Library/Frameworks/Python.framework/Versions/3.8/lib/python3.8/site-packages/sklearn/linear_model/_logistic.py:762: ConvergenceWarning: lbfgs failed to converge (status=1):\n",
      "STOP: TOTAL NO. of ITERATIONS REACHED LIMIT.\n",
      "\n",
      "Increase the number of iterations (max_iter) or scale the data as shown in:\n",
      "    https://scikit-learn.org/stable/modules/preprocessing.html\n",
      "Please also refer to the documentation for alternative solver options:\n",
      "    https://scikit-learn.org/stable/modules/linear_model.html#logistic-regression\n",
      "  n_iter_i = _check_optimize_result(\n",
      "/Library/Frameworks/Python.framework/Versions/3.8/lib/python3.8/site-packages/sklearn/linear_model/_logistic.py:762: ConvergenceWarning: lbfgs failed to converge (status=1):\n",
      "STOP: TOTAL NO. of ITERATIONS REACHED LIMIT.\n",
      "\n",
      "Increase the number of iterations (max_iter) or scale the data as shown in:\n",
      "    https://scikit-learn.org/stable/modules/preprocessing.html\n",
      "Please also refer to the documentation for alternative solver options:\n",
      "    https://scikit-learn.org/stable/modules/linear_model.html#logistic-regression\n",
      "  n_iter_i = _check_optimize_result(\n",
      "/Library/Frameworks/Python.framework/Versions/3.8/lib/python3.8/site-packages/sklearn/linear_model/_logistic.py:762: ConvergenceWarning: lbfgs failed to converge (status=1):\n",
      "STOP: TOTAL NO. of ITERATIONS REACHED LIMIT.\n",
      "\n",
      "Increase the number of iterations (max_iter) or scale the data as shown in:\n",
      "    https://scikit-learn.org/stable/modules/preprocessing.html\n",
      "Please also refer to the documentation for alternative solver options:\n",
      "    https://scikit-learn.org/stable/modules/linear_model.html#logistic-regression\n",
      "  n_iter_i = _check_optimize_result(\n",
      "/Library/Frameworks/Python.framework/Versions/3.8/lib/python3.8/site-packages/sklearn/linear_model/_logistic.py:762: ConvergenceWarning: lbfgs failed to converge (status=1):\n",
      "STOP: TOTAL NO. of ITERATIONS REACHED LIMIT.\n",
      "\n",
      "Increase the number of iterations (max_iter) or scale the data as shown in:\n",
      "    https://scikit-learn.org/stable/modules/preprocessing.html\n",
      "Please also refer to the documentation for alternative solver options:\n",
      "    https://scikit-learn.org/stable/modules/linear_model.html#logistic-regression\n",
      "  n_iter_i = _check_optimize_result(\n"
     ]
    },
    {
     "name": "stdout",
     "output_type": "stream",
     "text": [
      "Logistic Regression - Training Result\n",
      "              precision    recall  f1-score   support\n",
      "\n",
      "          -1     0.7025    0.6522    0.6764      1702\n",
      "           0     0.6177    0.6316    0.6246      1550\n",
      "           1     0.6409    0.6856    0.6625      1247\n",
      "\n",
      "    accuracy                         0.6544      4499\n",
      "   macro avg     0.6537    0.6565    0.6545      4499\n",
      "weighted avg     0.6562    0.6544    0.6547      4499\n",
      "\n",
      "Logistic Regression - Validation Result\n",
      "              precision    recall  f1-score   support\n",
      "\n",
      "          -1     0.6443    0.5531    0.5952       452\n",
      "           0     0.5204    0.5383    0.5292       379\n",
      "           1     0.5275    0.6190    0.5696       294\n",
      "\n",
      "    accuracy                         0.5653      1125\n",
      "   macro avg     0.5641    0.5701    0.5647      1125\n",
      "weighted avg     0.5721    0.5653    0.5663      1125\n",
      "\n"
     ]
    }
   ],
   "source": [
    "# Logistic Regression,\n",
    "logisticReg = LogisticRegressionCV(cv=5 ,solver='lbfgs', verbose=0)\n",
    "logisticReg.fit(train_w2v, train_Y)\n",
    "Y_lr_predict=logisticReg.predict(test_w2v)\n",
    "\n",
    "print(\"Logistic Regression - Training Result\")\n",
    "print(classification_report(logisticReg.predict(train_w2v),train_Y,digits=4))\n",
    "print(\"Logistic Regression - Validation Result\")\n",
    "print(classification_report(Y_lr_predict,test_Y, digits=4))\n",
    "\n",
    "# prediction = logisticReg.predict_proba(test_w2v)\n",
    "#\n",
    "# prediction_int = prediction[:,1] >= 0.3\n",
    "# prediction_int = prediction_int.astype(np.int)\n",
    "#\n",
    "# f1_score(test_Y, prediction_int)"
   ],
   "metadata": {
    "collapsed": false,
    "pycharm": {
     "name": "#%%\n"
    }
   }
  },
  {
   "cell_type": "code",
   "execution_count": 93,
   "outputs": [
    {
     "name": "stdout",
     "output_type": "stream",
     "text": [
      "aaaand money is still an idiot nospecifics cantanswerhow drama\n"
     ]
    }
   ],
   "source": [
    "# Spelling Check\n",
    "from textblob import TextBlob\n",
    "blob = TextBlob(\"aaaand romney is still an idiot nospecifics cantanswerhow obama\")\n",
    "print(blob.correct())"
   ],
   "metadata": {
    "collapsed": false,
    "pycharm": {
     "name": "#%%\n"
    }
   }
  },
  {
   "cell_type": "code",
   "execution_count": null,
   "outputs": [],
   "source": [
    "# Grammar Check?\n",
    "# import language_tool_python\n",
    "# tool = language_tool_python.LanguageTool('en-US')"
   ],
   "metadata": {
    "collapsed": false,
    "pycharm": {
     "name": "#%%\n"
    }
   }
  },
  {
   "cell_type": "code",
   "execution_count": 85,
   "outputs": [
    {
     "name": "stdout",
     "output_type": "stream",
     "text": [
      "Fitting 5 folds for each of 1 candidates, totalling 5 fits\n",
      "{'activation': 'relu', 'alpha': 0.3, 'hidden_layer_sizes': 5, 'learning_rate': 'constant', 'max_iter': 1000, 'solver': 'adam'}\n"
     ]
    },
    {
     "name": "stderr",
     "output_type": "stream",
     "text": [
      "[Parallel(n_jobs=1)]: Using backend SequentialBackend with 1 concurrent workers.\n",
      "[Parallel(n_jobs=1)]: Done   5 out of   5 | elapsed:   14.3s finished\n"
     ]
    }
   ],
   "source": [
    "# MLP\n",
    "from sklearn.neural_network import MLPClassifier\n",
    "from sklearn.model_selection import GridSearchCV, StratifiedKFold\n",
    "MLP = MLPClassifier(random_state = 42)\n",
    "mlp_param_grid = {\n",
    "    'hidden_layer_sizes':[(5)],\n",
    "    'activation':['relu'],\n",
    "    'solver':['adam'],\n",
    "    'alpha':[0.3],\n",
    "    'learning_rate':['constant'],\n",
    "    'max_iter':[1000]\n",
    "}\n",
    "kfold = StratifiedKFold( n_splits = 5, random_state = 42, shuffle=True )\n",
    "gsMLP = GridSearchCV(MLP, param_grid = mlp_param_grid, cv = kfold, n_jobs= 1, verbose = 1)\n",
    "gsMLP.fit(train_w2v, train_Y)\n",
    "print(gsMLP.best_params_)\n",
    "mlp_best0 = gsMLP.best_estimator_\n",
    "gsMLP.best_score_\n",
    "MLP_Y_predict = gsMLP.predict(test_w2v)\n",
    "print(\"MLP Classifier - Training Result\")\n",
    "print(classification_report(gsMLP.predict(train_w2v),train_Y,digits=4))\n",
    "print(\"MLP Classifier - Validation Result\")\n",
    "print(classification_report(MLP_Y_predict,test_Y, digits=4))"
   ],
   "metadata": {
    "collapsed": false,
    "pycharm": {
     "name": "#%%\n"
    }
   }
  },
  {
   "cell_type": "code",
   "execution_count": 94,
   "outputs": [
    {
     "name": "stdout",
     "output_type": "stream",
     "text": [
      "Linear Support Vector Classification - Training Result\n",
      "              precision    recall  f1-score   support\n",
      "\n",
      "          -1     0.7101    0.6240    0.6643      1798\n",
      "           0     0.5779    0.6123    0.5946      1496\n",
      "           1     0.6072    0.6722    0.6380      1205\n",
      "\n",
      "    accuracy                         0.6330      4499\n",
      "   macro avg     0.6317    0.6362    0.6323      4499\n",
      "weighted avg     0.6386    0.6330    0.6341      4499\n",
      "\n",
      "Linear Support Vector Classification - Validation Result\n",
      "              precision    recall  f1-score   support\n",
      "\n",
      "          -1     0.6778    0.5525    0.6088       476\n",
      "           0     0.5026    0.5487    0.5246       359\n",
      "           1     0.5130    0.6103    0.5575       290\n",
      "\n",
      "    accuracy                         0.5662      1125\n",
      "   macro avg     0.5645    0.5705    0.5636      1125\n",
      "weighted avg     0.5794    0.5662    0.5687      1125\n",
      "\n"
     ]
    }
   ],
   "source": [
    "# SVM\n",
    "from sklearn import svm\n",
    "clf = svm.LinearSVC(max_iter=2000)\n",
    "clf.fit(train_w2v, train_Y)\n",
    "clf_Y_predict = clf.predict(test_w2v)\n",
    "print(\"Linear Support Vector Classification - Training Result\")\n",
    "print(classification_report(clf.predict(train_w2v),train_Y,digits=4))\n",
    "print(\"Linear Support Vector Classification - Validation Result\")\n",
    "print(classification_report(clf_Y_predict,test_Y, digits=4))"
   ],
   "metadata": {
    "collapsed": false,
    "pycharm": {
     "name": "#%%\n"
    }
   }
  },
  {
   "cell_type": "code",
   "execution_count": 101,
   "outputs": [
    {
     "name": "stdout",
     "output_type": "stream",
     "text": [
      "XGBoost - Training Result\n",
      "              precision    recall  f1-score   support\n",
      "\n",
      "          -1     0.9905    0.9949    0.9927      1573\n",
      "           0     0.9823    0.9911    0.9867      1571\n",
      "           1     0.9955    0.9801    0.9877      1355\n",
      "\n",
      "    accuracy                         0.9891      4499\n",
      "   macro avg     0.9894    0.9887    0.9890      4499\n",
      "weighted avg     0.9892    0.9891    0.9891      4499\n",
      "\n",
      "XGBoost - Validation Result\n",
      "              precision    recall  f1-score   support\n",
      "\n",
      "          -1     0.6495    0.5727    0.6087       440\n",
      "           0     0.5332    0.5457    0.5394       383\n",
      "           1     0.5623    0.6424    0.5997       302\n",
      "\n",
      "    accuracy                         0.5822      1125\n",
      "   macro avg     0.5817    0.5869    0.5826      1125\n",
      "weighted avg     0.5865    0.5822    0.5827      1125\n",
      "\n"
     ]
    }
   ],
   "source": [
    "# XGBoost\n",
    "from xgboost import XGBClassifier\n",
    "xgb = XGBClassifier(max_depth=6, n_estimators=1000, nthread= 3)\n",
    "xgb.fit(train_w2v, train_Y)\n",
    "xgb_Y_predict = xgb.predict(test_w2v)\n",
    "print(\"XGBoost - Training Result\")\n",
    "print(classification_report(xgb.predict(train_w2v),train_Y,digits=4))\n",
    "print(\"XGBoost - Validation Result\")\n",
    "print(classification_report(xgb_Y_predict,test_Y, digits=4))\n"
   ],
   "metadata": {
    "collapsed": false,
    "pycharm": {
     "name": "#%%\n"
    }
   }
  }
 ],
 "metadata": {
  "kernelspec": {
   "display_name": "Python 3",
   "language": "python",
   "name": "python3"
  },
  "language_info": {
   "codemirror_mode": {
    "name": "ipython",
    "version": 2
   },
   "file_extension": ".py",
   "mimetype": "text/x-python",
   "name": "python",
   "nbconvert_exporter": "python",
   "pygments_lexer": "ipython2",
   "version": "2.7.6"
  }
 },
 "nbformat": 4,
 "nbformat_minor": 0
}
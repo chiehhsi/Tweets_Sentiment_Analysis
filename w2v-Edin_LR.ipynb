{
 "cells": [
  {
   "cell_type": "markdown",
   "metadata": {
    "collapsed": true,
    "pycharm": {
     "name": "#%% md\n"
    }
   },
   "source": [
    "### word2vec-Edin Logistic Regression"
   ]
  },
  {
   "cell_type": "code",
   "execution_count": 28,
   "outputs": [],
   "source": [
    "import gensim\n",
    "model = gensim.models.KeyedVectors.load_word2vec_format('w2v.twitter.edinburgh10M.400d.txt.word2vec')"
   ],
   "metadata": {
    "collapsed": false,
    "pycharm": {
     "name": "#%%\n"
    }
   }
  },
  {
   "cell_type": "code",
   "execution_count": 31,
   "outputs": [
    {
     "name": "stdout",
     "output_type": "stream",
     "text": [
      "[('obamas', 0.7016106843948364), ('bho', 0.6924901008605957), ('#obama', 0.677671492099762), ('obamaâ\\x80\\x99s', 0.672095775604248), ('potus', 0.6554491519927979), ('karzai', 0.6271429657936096), ('zardari', 0.5904218554496765), ('medvedev', 0.5850324034690857), ('palin', 0.5791465044021606), ('netanyahu', 0.5740561485290527)]\n",
      "400\n"
     ]
    }
   ],
   "source": [
    "print(model.most_similar(positive=\"obama\"))\n",
    "print(len(model['obama']))"
   ],
   "metadata": {
    "collapsed": false,
    "pycharm": {
     "name": "#%%\n"
    }
   }
  }
 ],
 "metadata": {
  "kernelspec": {
   "display_name": "Python 3",
   "language": "python",
   "name": "python3"
  },
  "language_info": {
   "codemirror_mode": {
    "name": "ipython",
    "version": 2
   },
   "file_extension": ".py",
   "mimetype": "text/x-python",
   "name": "python",
   "nbconvert_exporter": "python",
   "pygments_lexer": "ipython2",
   "version": "2.7.6"
  }
 },
 "nbformat": 4,
 "nbformat_minor": 0
}
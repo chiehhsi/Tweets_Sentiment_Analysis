{
 "cells": [
  {
   "cell_type": "markdown",
   "metadata": {
    "collapsed": true,
    "pycharm": {
     "name": "#%% md\n"
    }
   },
   "source": [
    "### word2vec-Edin Logistic Regression"
   ]
  },
  {
   "cell_type": "code",
   "execution_count": 28,
   "outputs": [],
   "source": [
    "import gensim\n",
    "model = gensim.models.KeyedVectors.load_word2vec_format('w2v.twitter.edinburgh10M.400d.txt.word2vec')"
   ],
   "metadata": {
    "collapsed": false,
    "pycharm": {
     "name": "#%%\n"
    }
   }
  },
  {
   "cell_type": "code",
   "execution_count": 31,
   "outputs": [
    {
     "name": "stdout",
     "output_type": "stream",
     "text": [
      "[('obamas', 0.7016106843948364), ('bho', 0.6924901008605957), ('#obama', 0.677671492099762), ('obamaâ\\x80\\x99s', 0.672095775604248), ('potus', 0.6554491519927979), ('karzai', 0.6271429657936096), ('zardari', 0.5904218554496765), ('medvedev', 0.5850324034690857), ('palin', 0.5791465044021606), ('netanyahu', 0.5740561485290527)]\n",
      "400\n"
     ]
    }
   ],
   "source": [
    "print(model.most_similar(positive=\"obama\"))\n",
    "print(len(model['obama']))"
   ],
   "metadata": {
    "collapsed": false,
    "pycharm": {
     "name": "#%%\n"
    }
   }
  },
  {
   "cell_type": "code",
   "execution_count": 52,
   "outputs": [],
   "source": [
    "import pandas as pd\n",
    "import numpy as np\n",
    "import matplotlib.pyplot as plt\n",
    "import seaborn as sns\n",
    "from sklearn.model_selection import train_test_split\n",
    "from sklearn.linear_model import LogisticRegression\n",
    "from sklearn.metrics import confusion_matrix, classification_report,accuracy_score, f1_score"
   ],
   "metadata": {
    "collapsed": false,
    "pycharm": {
     "name": "#%%\n"
    }
   }
  },
  {
   "cell_type": "markdown",
   "source": [
    "#### Read Cleaned Data"
   ],
   "metadata": {
    "collapsed": false
   }
  },
  {
   "cell_type": "code",
   "execution_count": 35,
   "outputs": [],
   "source": [
    "oba_cleanall = np.load('./TrainData/tweets_oba.npy', allow_pickle=True)\n",
    "targets_oba = np.load('./TrainData/targets_oba.npy', allow_pickle=True)\n",
    "rom_cleanall = np.load('./TrainData/tweets_rom.npy', allow_pickle=True)\n",
    "targets_rom = np.load('./TrainData/targets_rom.npy', allow_pickle=True)\n",
    "df_oba = pd.DataFrame({'tweet':oba_cleanall, 'label': targets_oba })\n",
    "df_rom = pd.DataFrame({'tweet':rom_cleanall, 'label': targets_rom })"
   ],
   "metadata": {
    "collapsed": false,
    "pycharm": {
     "name": "#%%\n"
    }
   }
  },
  {
   "cell_type": "code",
   "execution_count": 36,
   "outputs": [
    {
     "data": {
      "text/plain": "<matplotlib.axes._subplots.AxesSubplot at 0x7fd3d4551c40>"
     },
     "execution_count": 36,
     "metadata": {},
     "output_type": "execute_result"
    },
    {
     "data": {
      "text/plain": "<Figure size 432x288 with 1 Axes>",
      "image/png": "[encoded data removed]"
     },
     "metadata": {
      "needs_background": "light"
     },
     "output_type": "display_data"
    }
   ],
   "source": [
    "sns.countplot(df_oba['label'])"
   ],
   "metadata": {
    "collapsed": false,
    "pycharm": {
     "name": "#%%\n"
    }
   }
  },
  {
   "cell_type": "code",
   "execution_count": 39,
   "outputs": [
    {
     "data": {
      "text/plain": "<matplotlib.axes._subplots.AxesSubplot at 0x7fd402904550>"
     },
     "execution_count": 39,
     "metadata": {},
     "output_type": "execute_result"
    },
    {
     "data": {
      "text/plain": "<Figure size 432x288 with 1 Axes>",
      "image/png": "[encoded data removed]"
     },
     "metadata": {
      "needs_background": "light"
     },
     "output_type": "display_data"
    },
    {
     "data": {
      "text/plain": "<Figure size 648x216 with 3 Axes>",
      "image/png": "[encoded data removed]"
     },
     "metadata": {
      "needs_background": "light"
     },
     "output_type": "display_data"
    }
   ],
   "source": [
    "df_oba['text_length'] = df_oba['tweet'].apply(len)\n",
    "df_oba[['label','text_length','tweet']].head()\n",
    "df_oba['text_length'].describe()\n",
    "df_oba['text_length'].hist(bins=50)\n",
    "g = sns.FacetGrid(df_oba,col='label')\n",
    "g.map(plt.hist,'text_length')\n",
    "\n",
    "df_rom['text_length'] = df_rom['tweet'].apply(len)\n",
    "df_rom[['label','text_length','tweet']].head()\n",
    "df_rom['text_length'].describe()\n",
    "df_rom['text_length'].hist(bins=50)\n",
    "# g = sns.FacetGrid(df_rom,col='label')\n",
    "# g.map(plt.hist,'text_length')"
   ],
   "metadata": {
    "collapsed": false,
    "pycharm": {
     "name": "#%%\n"
    }
   }
  },
  {
   "cell_type": "code",
   "execution_count": 32,
   "outputs": [],
   "source": [
    "#Preparing Vectors for Tweets\n",
    "def word_vector(tokens, size):\n",
    "    vec = np.zeros(size).reshape((1, size))\n",
    "    count = 0\n",
    "    for word in tokens:\n",
    "        try:\n",
    "            vec += model[word].reshape((1, size))\n",
    "            count += 1.\n",
    "        except KeyError:  # handling the case where the token is not in vocabulary\n",
    "            continue\n",
    "    if count != 0:\n",
    "        vec /= count\n",
    "    return vec"
   ],
   "metadata": {
    "collapsed": false,
    "pycharm": {
     "name": "#%%\n"
    }
   }
  },
  {
   "cell_type": "code",
   "execution_count": 40,
   "outputs": [
    {
     "data": {
      "text/plain": "(5624, 400)"
     },
     "execution_count": 40,
     "metadata": {},
     "output_type": "execute_result"
    }
   ],
   "source": [
    "# Preparing word2vec feature set…\n",
    "tokenized_tweet = df_oba['tweet'].apply(lambda x: x.split())\n",
    "\n",
    "wordvec_arrays = np.zeros((len(tokenized_tweet), 400))\n",
    "for i in range(len(tokenized_tweet)):\n",
    "    wordvec_arrays[i,:] = word_vector(tokenized_tweet[i], 400)\n",
    "wordvec_df = pd.DataFrame(wordvec_arrays)\n",
    "wordvec_df.shape"
   ],
   "metadata": {
    "collapsed": false,
    "pycharm": {
     "name": "#%%\n"
    }
   }
  },
  {
   "cell_type": "code",
   "execution_count": 48,
   "outputs": [],
   "source": [
    "train_w2v, test_w2v, train_Y, test_Y = train_test_split(wordvec_df, df_oba['label'], test_size = 0.2, random_state = 42)\n",
    "# train_w2v = wordvec_df.iloc[:3655,:]\n",
    "# test_w2v = wordvec_df.iloc[3655:,:]\n",
    "\n",
    "# xtrain_w2v = train_w2v.iloc[train_Y.index,:]\n",
    "# xvalid_w2v = train_w2v.iloc[test_Y.index,:]"
   ],
   "metadata": {
    "collapsed": false,
    "pycharm": {
     "name": "#%%\n"
    }
   }
  },
  {
   "cell_type": "code",
   "execution_count": 54,
   "outputs": [
    {
     "name": "stdout",
     "output_type": "stream",
     "text": [
      "Logistic Regression - Training Result\n",
      "              precision    recall  f1-score   support\n",
      "\n",
      "          -1     0.6797    0.5686    0.6192      1889\n",
      "           0     0.5464    0.5697    0.5578      1520\n",
      "           1     0.5360    0.6560    0.5899      1090\n",
      "\n",
      "    accuracy                         0.5901      4499\n",
      "   macro avg     0.5874    0.5981    0.5890      4499\n",
      "weighted avg     0.5999    0.5901    0.5914      4499\n",
      "\n",
      "Logistic Regression - Validation Result\n",
      "              precision    recall  f1-score   support\n",
      "\n",
      "          -1     0.6959    0.5336    0.6040       506\n",
      "           0     0.5153    0.5706    0.5416       354\n",
      "           1     0.4783    0.6226    0.5410       265\n",
      "\n",
      "    accuracy                         0.5662      1125\n",
      "   macro avg     0.5631    0.5756    0.5622      1125\n",
      "weighted avg     0.5878    0.5662    0.5695      1125\n",
      "\n"
     ]
    }
   ],
   "source": [
    "logisticReg = LogisticRegression(solver='lbfgs')\n",
    "logisticReg.fit(train_w2v, train_Y)\n",
    "Y_lr_predict=logisticReg.predict(test_w2v)\n",
    "\n",
    "print(\"Logistic Regression - Training Result\")\n",
    "print(classification_report(logisticReg.predict(train_w2v),train_Y,digits=4))\n",
    "print(\"Logistic Regression - Validation Result\")\n",
    "print(classification_report(Y_lr_predict,test_Y, digits=4))\n",
    "\n",
    "# prediction = logisticReg.predict_proba(test_w2v)\n",
    "#\n",
    "# prediction_int = prediction[:,1] >= 0.3\n",
    "# prediction_int = prediction_int.astype(np.int)\n",
    "#\n",
    "# f1_score(test_Y, prediction_int)"
   ],
   "metadata": {
    "collapsed": false,
    "pycharm": {
     "name": "#%%\n"
    }
   }
  }
 ],
 "metadata": {
  "kernelspec": {
   "display_name": "Python 3",
   "language": "python",
   "name": "python3"
  },
  "language_info": {
   "codemirror_mode": {
    "name": "ipython",
    "version": 2
   },
   "file_extension": ".py",
   "mimetype": "text/x-python",
   "name": "python",
   "nbconvert_exporter": "python",
   "pygments_lexer": "ipython2",
   "version": "2.7.6"
  }
 },
 "nbformat": 4,
 "nbformat_minor": 0
}
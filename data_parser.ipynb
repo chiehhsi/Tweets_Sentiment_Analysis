{
 "cells": [
  {
   "cell_type": "code",
   "execution_count": 92,
   "metadata": {},
   "outputs": [],
   "source": [
    "import numpy as np\n",
    "import pandas as pd\n",
    "import matplotlib.pyplot as plt\n",
    "import seaborn as sns\n",
    "\n",
    "#Model Selection and Validation\n",
    "from sklearn.naive_bayes import MultinomialNB\n",
    "from sklearn.model_selection import train_test_split\n",
    "from sklearn.pipeline import Pipeline\n",
    "from sklearn.metrics import confusion_matrix, classification_report,accuracy_score\n",
    "from sklearn.preprocessing import label_binarize\n",
    "from sklearn.svm import SVC, LinearSVC\n",
    "from sklearn.tree import DecisionTreeClassifier\n",
    "from sklearn.naive_bayes import GaussianNB\n",
    "from sklearn.neighbors import KNeighborsClassifier\n",
    "from sklearn.ensemble import AdaBoostClassifier\n",
    "from sklearn.model_selection import cross_validate\n",
    "from sklearn.linear_model import LogisticRegression\n",
    "from sklearn.neural_network import MLPClassifier\n",
    "#from sklearn.cross_validation import StratifiedKFold, KFold\n",
    "from sklearn.feature_extraction.text import CountVectorizer\n",
    "from sklearn.feature_extraction.text import TfidfVectorizer\n",
    "from sklearn.metrics import accuracy_score, f1_score\n",
    "from sklearn.model_selection import GridSearchCV, StratifiedKFold, learning_curve"
   ]
  },
  {
   "cell_type": "markdown",
   "metadata": {},
   "source": [
    "## Data Exploratory Analysis"
   ]
  },
  {
   "cell_type": "markdown",
   "metadata": {},
   "source": [
    "wordcloud visualization\n",
    "Bag of words, word2vec?"
   ]
  },
  {
   "cell_type": "code",
   "execution_count": null,
   "metadata": {},
   "outputs": [],
   "source": []
  },
  {
   "cell_type": "code",
   "execution_count": 68,
   "metadata": {
    "scrolled": true
   },
   "outputs": [
    {
     "name": "stdout",
     "output_type": "stream",
     "text": [
      "Loading Data....\n"
     ]
    }
   ],
   "source": [
    "print('Loading Data....')\n",
    "oba_X = np.load('./TrainData/tweets_oba.npy', allow_pickle=True)\n",
    "oba_Y = np.load('./TrainData/targets_oba.npy', allow_pickle=True)"
   ]
  },
  {
   "cell_type": "code",
   "execution_count": 69,
   "metadata": {},
   "outputs": [],
   "source": [
    "train_X, test_X, train_Y, test_Y = train_test_split(oba_X, oba_Y, test_size = 0.2, random_state = 42)"
   ]
  },
  {
   "cell_type": "code",
   "execution_count": 70,
   "metadata": {
    "scrolled": true
   },
   "outputs": [],
   "source": [
    "tfv = TfidfVectorizer(ngram_range = (1,3),\n",
    "                    sublinear_tf = True,\n",
    "                    max_features = 40000)\n",
    "train_X = tfv.fit_transform(train_X)\n",
    "#a = TfidfVectorizer()\n",
    "test_X =tfv.transform(test_X)"
   ]
  },
  {
   "cell_type": "code",
   "execution_count": 71,
   "metadata": {
    "scrolled": false
   },
   "outputs": [
    {
     "data": {
      "text/plain": [
       "((4499, 40000), (1125, 40000))"
      ]
     },
     "execution_count": 71,
     "metadata": {},
     "output_type": "execute_result"
    }
   ],
   "source": [
    "train_X.shape, test_X.shape"
   ]
  },
  {
   "cell_type": "code",
   "execution_count": 72,
   "metadata": {
    "scrolled": true
   },
   "outputs": [
    {
     "data": {
      "text/plain": [
       "((4499,), (1125,))"
      ]
     },
     "execution_count": 72,
     "metadata": {},
     "output_type": "execute_result"
    }
   ],
   "source": [
    "train_Y.shape, test_Y.shape"
   ]
  },
  {
   "cell_type": "code",
   "execution_count": 75,
   "metadata": {},
   "outputs": [
    {
     "name": "stdout",
     "output_type": "stream",
     "text": [
      "['0023washington', '08', '10', '10 trillion', '100']\n",
      "Vocabulary length: 40000\n"
     ]
    },
    {
     "data": {
      "text/html": [
       "<div>\n",
       "<style scoped>\n",
       "    .dataframe tbody tr th:only-of-type {\n",
       "        vertical-align: middle;\n",
       "    }\n",
       "\n",
       "    .dataframe tbody tr th {\n",
       "        vertical-align: top;\n",
       "    }\n",
       "\n",
       "    .dataframe thead th {\n",
       "        text-align: right;\n",
       "    }\n",
       "</style>\n",
       "<table border=\"1\" class=\"dataframe\">\n",
       "  <thead>\n",
       "    <tr style=\"text-align: right;\">\n",
       "      <th></th>\n",
       "      <th>0023washington</th>\n",
       "      <th>08</th>\n",
       "      <th>10</th>\n",
       "      <th>10 trillion</th>\n",
       "      <th>100</th>\n",
       "      <th>1000000</th>\n",
       "      <th>100b</th>\n",
       "      <th>100b afghanistan</th>\n",
       "      <th>100b afghanistan 2012</th>\n",
       "      <th>11</th>\n",
       "      <th>...</th>\n",
       "      <th>zombi</th>\n",
       "      <th>zombi apocalyps</th>\n",
       "      <th>zombi apocalyps obama</th>\n",
       "      <th>zombi like</th>\n",
       "      <th>zombi like 2008</th>\n",
       "      <th>zwei</th>\n",
       "      <th>zwei siegern</th>\n",
       "      <th>zwei siegern okru</th>\n",
       "      <th>zzz</th>\n",
       "      <th>zzz plea</th>\n",
       "    </tr>\n",
       "  </thead>\n",
       "  <tbody>\n",
       "    <tr>\n",
       "      <th>0</th>\n",
       "      <td>0.155798</td>\n",
       "      <td>1.638165</td>\n",
       "      <td>1.78715</td>\n",
       "      <td>0.479248</td>\n",
       "      <td>1.947707</td>\n",
       "      <td>0.642606</td>\n",
       "      <td>0.311159</td>\n",
       "      <td>0.311159</td>\n",
       "      <td>0.311159</td>\n",
       "      <td>0.602737</td>\n",
       "      <td>...</td>\n",
       "      <td>0.560238</td>\n",
       "      <td>0.32685</td>\n",
       "      <td>0.32685</td>\n",
       "      <td>0.260714</td>\n",
       "      <td>0.260714</td>\n",
       "      <td>0.267156</td>\n",
       "      <td>0.267156</td>\n",
       "      <td>0.267156</td>\n",
       "      <td>0.300129</td>\n",
       "      <td>0.177261</td>\n",
       "    </tr>\n",
       "  </tbody>\n",
       "</table>\n",
       "<p>1 rows × 40000 columns</p>\n",
       "</div>"
      ],
      "text/plain": [
       "   0023washington        08       10  10 trillion       100   1000000  \\\n",
       "0        0.155798  1.638165  1.78715     0.479248  1.947707  0.642606   \n",
       "\n",
       "       100b  100b afghanistan  100b afghanistan 2012        11  ...     zombi  \\\n",
       "0  0.311159          0.311159               0.311159  0.602737  ...  0.560238   \n",
       "\n",
       "   zombi apocalyps  zombi apocalyps obama  zombi like  zombi like 2008  \\\n",
       "0          0.32685                0.32685    0.260714         0.260714   \n",
       "\n",
       "       zwei  zwei siegern  zwei siegern okru       zzz  zzz plea  \n",
       "0  0.267156      0.267156           0.267156  0.300129  0.177261  \n",
       "\n",
       "[1 rows x 40000 columns]"
      ]
     },
     "execution_count": 75,
     "metadata": {},
     "output_type": "execute_result"
    }
   ],
   "source": [
    "vocab = tfv.get_feature_names()\n",
    "print(vocab[:5])\n",
    "print(\"Vocabulary length:\", len(vocab))\n",
    "dist = np.sum(train_X, axis=0)\n",
    "checking = pd.DataFrame(dist,columns = vocab)\n",
    "checking"
   ]
  },
  {
   "cell_type": "code",
   "execution_count": 15,
   "metadata": {},
   "outputs": [
    {
     "data": {
      "text/plain": [
       "<5624x7447 sparse matrix of type '<class 'numpy.int64'>'\n",
       "\twith 51438 stored elements in Compressed Sparse Row format>"
      ]
     },
     "execution_count": 15,
     "metadata": {},
     "output_type": "execute_result"
    }
   ],
   "source": [
    "cv = CountVectorizer()\n",
    "d = cv.fit_transform(oba_X)\n",
    "d"
   ]
  },
  {
   "cell_type": "code",
   "execution_count": 4,
   "metadata": {},
   "outputs": [
    {
     "data": {
      "text/plain": [
       "((5624,), (5624,))"
      ]
     },
     "execution_count": 4,
     "metadata": {},
     "output_type": "execute_result"
    }
   ],
   "source": [
    "X.shape, Y.shape"
   ]
  },
  {
   "cell_type": "code",
   "execution_count": null,
   "metadata": {},
   "outputs": [],
   "source": [
    "clf = GaussianNB()\n",
    "    clf.fit(X_train, y_train)\n",
    "    print('CLF ==== NB')\n",
    "    print('Accuracy: %.2f' % accuracy_score(y_dev, clf.predict(X_dev)))\n",
    "\n",
    "    X_train = sparse.csr_matrix(X_train)\n",
    "    X_dev =  sparse.csr_matrix(X_dev)\n",
    "\n",
    "    clf = SVC(kernel='poly', C=1, random_state=42)\n",
    "    clf.fit(X_train, y_train)\n",
    "    print('CLF ==== SVM poly')\n",
    "    print('Accuracy: %.2f' % accuracy_score(y_dev, clf.predict(X_dev)))\n",
    "\n",
    "    clf = SVC(kernel='linear', C=1, random_state=42)\n",
    "    clf.fit(X_train, y_train)\n",
    "    print('CLF ==== SVM linear')\n",
    "    print('Accuracy: %.2f' % accuracy_score(y_dev, clf.predict(X_dev)))\n",
    "\n",
    "    clf = SVC(kernel='rbf', C=1, random_state=42)\n",
    "    clf.fit(X_train, y_train)\n",
    "    print('CLF ==== SVM rbf')\n",
    "    print('Accuracy: %.2f' % accuracy_score(y_dev, clf.predict(X_dev)))\n",
    "\n",
    "    clf = DecisionTreeClassifier(random_state=42)\n",
    "    clf.fit(X_train, y_train)\n",
    "    print('CLF ==== DecisionTree')\n",
    "    print('Accuracy: %.2f' % accuracy_score(y_dev, clf.predict(X_dev)))\n",
    "\n",
    "    clf = KNeighborsClassifier(n_neighbors=1)\n",
    "    clf.fit(X_train, y_train)\n",
    "    print('CLF ==== KNN1')\n",
    "    print('Accuracy: %.2f' % accuracy_score(y_dev, clf.predict(X_dev)))\n",
    "\n",
    "    clf = KNeighborsClassifier(n_neighbors=3)\n",
    "    clf.fit(X_train, y_train)\n",
    "    print('CLF ==== KNN3')\n",
    "    print('Accuracy: %.2f' % accuracy_score(y_dev, clf.predict(X_dev)))\n",
    "\n",
    "    clf = KNeighborsClassifier(n_neighbors=5)\n",
    "    clf.fit(X_train, y_train)\n",
    "    print('CLF ==== KNN5')\n",
    "    print('Accuracy: %.2f' % accuracy_score(y_dev, clf.predict(X_dev)))\n",
    "\n",
    "    clf = AdaBoostClassifier(random_state=42)\n",
    "    clf.fit(X_train, y_train)\n",
    "    print('CLF ==== AdaBoost')\n",
    "    print('Accuracy: %.2f' % accuracy_score(y_dev, clf.predict(X_dev)))"
   ]
  },
  {
   "cell_type": "code",
   "execution_count": 76,
   "metadata": {},
   "outputs": [
    {
     "data": {
      "text/plain": [
       "0.5244444444444445"
      ]
     },
     "execution_count": 76,
     "metadata": {},
     "output_type": "execute_result"
    }
   ],
   "source": [
    "clf = SVC(kernel='poly', C=1, random_state=42)\n",
    "clf.fit(train_X, train_Y)\n",
    "accuracy_score(test_Y, clf.predict(test_X))"
   ]
  },
  {
   "cell_type": "code",
   "execution_count": 79,
   "metadata": {},
   "outputs": [
    {
     "data": {
      "text/plain": [
       "0.5937777777777777"
      ]
     },
     "execution_count": 79,
     "metadata": {},
     "output_type": "execute_result"
    }
   ],
   "source": [
    "kfold = StratifiedKFold( n_splits = 5, random_state = 42, shuffle=True )\n",
    "sv = LinearSVC(random_state=42)\n",
    "\n",
    "param_grid2 = {\n",
    "    'loss':['squared_hinge'],\n",
    "    'class_weight':[{1:4}],\n",
    "    'C': [0.2]\n",
    "}\n",
    "sv.fit(train_X, train_Y)\n",
    "accuracy_score(test_Y, sv.predict(test_X))\n",
    "#gs_sv = GridSearchCV(sv, param_grid = [param_grid2], verbose = 1, cv = kfold, n_jobs = 1, scoring = 'roc_auc')\n",
    "#gs_sv.fit(train_X, train_Y)\n",
    "#gs_sv_best = gs_sv.best_estimator_\n",
    "#print(gs_sv.best_params_)"
   ]
  },
  {
   "cell_type": "code",
   "execution_count": 94,
   "metadata": {},
   "outputs": [
    {
     "name": "stdout",
     "output_type": "stream",
     "text": [
      "Fitting 5 folds for each of 1 candidates, totalling 5 fits\n"
     ]
    },
    {
     "name": "stderr",
     "output_type": "stream",
     "text": [
      "[Parallel(n_jobs=1)]: Using backend SequentialBackend with 1 concurrent workers.\n",
      "[Parallel(n_jobs=1)]: Done   5 out of   5 | elapsed:  1.4min finished\n"
     ]
    },
    {
     "name": "stdout",
     "output_type": "stream",
     "text": [
      "{'activation': 'relu', 'alpha': 0.3, 'hidden_layer_sizes': 5, 'learning_rate': 'constant', 'max_iter': 1000, 'solver': 'adam'}\n"
     ]
    }
   ],
   "source": [
    "#y = label_binarize(train_Y, classes=[0, 1, 2])\n",
    "MLP = MLPClassifier(random_state = 2018)\n",
    "\n",
    "mlp_param_grid = {\n",
    "    'hidden_layer_sizes':[(5)],\n",
    "    'activation':['relu'],\n",
    "    'solver':['adam'],\n",
    "    'alpha':[0.3],\n",
    "    'learning_rate':['constant'],\n",
    "    'max_iter':[1000]\n",
    "}\n",
    "\n",
    "\n",
    "gsMLP = GridSearchCV(MLP, param_grid = mlp_param_grid, cv = kfold, n_jobs= 1, verbose = 1)\n",
    "gsMLP.fit(train_X, train_Y)\n",
    "print(gsMLP.best_params_)\n",
    "mlp_best0 = gsMLP.best_estimator_"
   ]
  },
  {
   "cell_type": "code",
   "execution_count": 96,
   "metadata": {},
   "outputs": [
    {
     "data": {
      "text/plain": [
       "(MLPClassifier(alpha=0.3, hidden_layer_sizes=5, max_iter=1000, random_state=2018),\n",
       " 0.600142380422692)"
      ]
     },
     "execution_count": 96,
     "metadata": {},
     "output_type": "execute_result"
    }
   ],
   "source": [
    "mlp_best0, gsMLP.best_score_"
   ]
  },
  {
   "cell_type": "code",
   "execution_count": 97,
   "metadata": {},
   "outputs": [
    {
     "data": {
      "text/plain": [
       "0.5902222222222222"
      ]
     },
     "execution_count": 97,
     "metadata": {},
     "output_type": "execute_result"
    }
   ],
   "source": [
    "submission3 = gsMLP.predict(test_X)\n",
    "accuracy_score(test_Y, submission3)"
   ]
  },
  {
   "cell_type": "code",
   "execution_count": 98,
   "metadata": {},
   "outputs": [
    {
     "data": {
      "text/plain": [
       "array([[248,  77,  63],\n",
       "       [119, 199,  74],\n",
       "       [ 52,  76, 217]])"
      ]
     },
     "execution_count": 98,
     "metadata": {},
     "output_type": "execute_result"
    }
   ],
   "source": [
    "confusion_matrix(test_Y, submission3)"
   ]
  },
  {
   "cell_type": "markdown",
   "metadata": {},
   "source": [
    "## Evaluation"
   ]
  },
  {
   "cell_type": "code",
   "execution_count": null,
   "metadata": {},
   "outputs": [],
   "source": [
    "#Accuracy\n",
    "#Confusion Matrix: precision, recall, F1 for pos./ neg. class\n",
    "confusion_matrix(true_Y, y_pred)"
   ]
  }
 ],
 "metadata": {
  "kernelspec": {
   "display_name": "Python 3",
   "language": "python",
   "name": "python3"
  },
  "language_info": {
   "codemirror_mode": {
    "name": "ipython",
    "version": 3
   },
   "file_extension": ".py",
   "mimetype": "text/x-python",
   "name": "python",
   "nbconvert_exporter": "python",
   "pygments_lexer": "ipython3",
   "version": "3.8.6"
  }
 },
 "nbformat": 4,
 "nbformat_minor": 4
}
